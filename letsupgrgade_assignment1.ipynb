{
  "nbformat": 4,
  "nbformat_minor": 0,
  "metadata": {
    "colab": {
      "name": "letsupgrgade_assignment1.ipynb",
      "provenance": [],
      "collapsed_sections": []
    },
    "kernelspec": {
      "name": "python3",
      "display_name": "Python 3"
    }
  },
  "cells": [
    {
      "cell_type": "markdown",
      "metadata": {
        "id": "SR-H_hD8THxZ"
      },
      "source": [
        "## **Assignment 1**"
      ]
    },
    {
      "cell_type": "markdown",
      "metadata": {
        "id": "N7tjBxrLTlWd"
      },
      "source": [
        "**Question 1**"
      ]
    },
    {
      "cell_type": "code",
      "metadata": {
        "id": "8qQtTC7VTMn-"
      },
      "source": [
        "Answer B: RAINBOW"
      ],
      "execution_count": null,
      "outputs": []
    },
    {
      "cell_type": "markdown",
      "metadata": {
        "id": "G9-pwJ5ITXOA"
      },
      "source": [
        "**Question 2**"
      ]
    },
    {
      "cell_type": "code",
      "metadata": {
        "id": "uI62OsThSeFc",
        "outputId": "ffeeda0a-4284-402c-8822-af6a4837332c",
        "colab": {
          "base_uri": "https://localhost:8080/"
        }
      },
      "source": [
        "msg=\"lets upgrade\"\n",
        "print(msg.upper())\n"
      ],
      "execution_count": 2,
      "outputs": [
        {
          "output_type": "stream",
          "text": [
            "LETS UPGRADE\n"
          ],
          "name": "stdout"
        }
      ]
    },
    {
      "cell_type": "code",
      "metadata": {
        "id": "GRHWIR7eTsKP",
        "outputId": "c3c8c6ea-9860-41ac-dd6a-a830ac0a809a",
        "colab": {
          "base_uri": "https://localhost:8080/"
        }
      },
      "source": [
        "msg= input(\"enter your msg\")\n",
        "print(msg.upper())"
      ],
      "execution_count": 3,
      "outputs": [
        {
          "output_type": "stream",
          "text": [
            "enter your msgLets upgrade\n",
            "LETS UPGRADE\n"
          ],
          "name": "stdout"
        }
      ]
    },
    {
      "cell_type": "markdown",
      "metadata": {
        "id": "Wdkd9XSFUm7R"
      },
      "source": [
        "**Question 3**"
      ]
    },
    {
      "cell_type": "code",
      "metadata": {
        "id": "ZtgoXfPrUqX9",
        "outputId": "be08e348-2a96-4699-ef50-fc39bc2bcc09",
        "colab": {
          "base_uri": "https://localhost:8080/"
        }
      },
      "source": [
        "print(\"INPUT\")\n",
        "cost_price=int(input())\n",
        "sell_price=int(input())\n",
        "print(\"OUTPUT\")\n",
        "if (sell_price > cost_price):\n",
        "  print(\"Profit\")\n",
        "elif (sell_price < cost_price):\n",
        "  print(\"Loss\")\n",
        "else:\n",
        "  print(\"Neither\")"
      ],
      "execution_count": 21,
      "outputs": [
        {
          "output_type": "stream",
          "text": [
            "INPUT\n",
            "20\n",
            "30\n",
            "OUTPUT\n",
            "Profit\n"
          ],
          "name": "stdout"
        }
      ]
    },
    {
      "cell_type": "markdown",
      "metadata": {
        "id": "1bJNL3_PYR1z"
      },
      "source": [
        "**Question 4**"
      ]
    },
    {
      "cell_type": "code",
      "metadata": {
        "id": "g7W7aqbMYWvW",
        "outputId": "c732fe91-20b0-4b90-8ed5-4282aef2f8af",
        "colab": {
          "base_uri": "https://localhost:8080/"
        }
      },
      "source": [
        "print(\"INPUT\")\n",
        "euros=int(input())\n",
        "print(\"OUTPUT\")\n",
        "print(euros*80)"
      ],
      "execution_count": 26,
      "outputs": [
        {
          "output_type": "stream",
          "text": [
            "INPUT\n",
            "18\n",
            "OUTPUT\n",
            "1440\n"
          ],
          "name": "stdout"
        }
      ]
    }
  ]
}